{
 "metadata": {
  "name": "",
  "signature": "sha256:26d5129f98f725346a25ea5f7a363c65b53a7428ecce440b3c58b2335817ba7e"
 },
 "nbformat": 3,
 "nbformat_minor": 0,
 "worksheets": [
  {
   "cells": [
    {
     "cell_type": "code",
     "collapsed": false,
     "input": [
      "from intercom import Intercom\n",
      "Intercom.app_id = 'yb8sxeop'\n",
      "Intercom.api_key = '7ab67c8504401831c5898148de01091b09af936f'"
     ],
     "language": "python",
     "metadata": {},
     "outputs": [],
     "prompt_number": 67
    },
    {
     "cell_type": "code",
     "collapsed": false,
     "input": [
      "def is_active_user(last_impression_at,dates_determine_active=30):\n",
      "    \n",
      "    '''\n",
      "    1. input user's last_impression_at timestamp if user log in with in 30 days then this user is active\n",
      "    2. if user had logged once in X days(dates_determine_active) then this user is defined to be active. \n",
      "    '''\n",
      "    \n",
      "    if last_impression_at == None:\n",
      "        print 'No last_impression_at'\n",
      "        return False\n",
      "    \n",
      "    import datetime \n",
      "    date_now = datetime.datetime.now().date()\n",
      "    active_days = date_now - datetime.timedelta(seconds=dates_determine_active*24*60*60)\n",
      "    \n",
      "    date_from_timestamp = datetime.datetime.fromtimestamp(float(last_impression_at)).date()\n",
      "    if active_days <= date_from_timestamp <= date_now:\n",
      "        return True\n",
      "    else:\n",
      "        return False\n",
      "    \n",
      "def is_viewsy_user(email_address):\n",
      "    if '@viewsy.com' not in email_address:\n",
      "        return False\n",
      "    else:\n",
      "        return True"
     ],
     "language": "python",
     "metadata": {},
     "outputs": [],
     "prompt_number": 69
    },
    {
     "cell_type": "code",
     "collapsed": false,
     "input": [
      "from datetime import datetime\n",
      "\n",
      "from intercom import User\n",
      "user_all = []\n",
      "for user in User.all():\n",
      "    user_all.append(user)\n",
      "    \n",
      "for user in user_all:\n",
      "    if is_active_user(user['last_impression_at']) and not is_viewsy_user(user['email']):\n",
      "        print user['user_id']\n",
      "        print user['email']\n",
      "        print 'total session count:',user[\"session_count\"]"
     ],
     "language": "python",
     "metadata": {},
     "outputs": [
      {
       "output_type": "stream",
       "stream": "stdout",
       "text": [
        "No last_impression_at\n",
        "52\n",
        "ms@rainmaking.co.uk\n",
        "total session count: 30\n"
       ]
      }
     ],
     "prompt_number": 72
    },
    {
     "cell_type": "code",
     "collapsed": false,
     "input": [],
     "language": "python",
     "metadata": {},
     "outputs": []
    }
   ],
   "metadata": {}
  }
 ]
}