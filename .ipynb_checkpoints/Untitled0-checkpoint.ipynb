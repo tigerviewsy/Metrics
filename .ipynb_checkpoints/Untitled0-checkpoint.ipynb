{
 "metadata": {
  "name": "",
  "signature": "sha256:59cfeaef45d63dc427163af01d6a9d727493a80ce7e6d2bfde46c411000b0eb0"
 },
 "nbformat": 3,
 "nbformat_minor": 0,
 "worksheets": [
  {
   "cells": [
    {
     "cell_type": "code",
     "collapsed": false,
     "input": [
      "import gspread"
     ],
     "language": "python",
     "metadata": {},
     "outputs": [],
     "prompt_number": 18
    },
    {
     "cell_type": "code",
     "collapsed": false,
     "input": [
      "gc = gspread.login('tiger@viewsy.com', 'Qq18666372882')"
     ],
     "language": "python",
     "metadata": {},
     "outputs": [],
     "prompt_number": 19
    },
    {
     "cell_type": "code",
     "collapsed": false,
     "input": [
      "wks = gc.open(\"testing_gspread\")"
     ],
     "language": "python",
     "metadata": {},
     "outputs": [],
     "prompt_number": 20
    },
    {
     "cell_type": "code",
     "collapsed": false,
     "input": [
      "wks_0 = wks.worksheets()[0]\n",
      "wks_1 = wks.worksheets()[1]"
     ],
     "language": "python",
     "metadata": {},
     "outputs": [],
     "prompt_number": 21
    },
    {
     "cell_type": "code",
     "collapsed": false,
     "input": [
      "# testing data \n",
      "\n",
      "intercom_metrics = [{'user_id': u'52', 'session_count': 30}]\n",
      "salesforce_metrics = [{'pro_count': {'pro_1_5': 25.925925925925927, 'pro_1_8': 7.407407407407407}, 'time_count': {'ave_time_1_5': datetime.timedelta(1, 27883, 166667), 'ave_time_5_8': datetime.timedelta(3, 28430)}, 'stage_count': {'stage_1_count': 27, 'stage_8_count': 2, 'stage_5_count': 7}}, {'pro_count': {'pro_1_8': 7.407407407407407}, 'time_count': {'ave_time_1_8': datetime.timedelta(4, 56313, 166667)}}]\n"
     ],
     "language": "python",
     "metadata": {},
     "outputs": []
    }
   ],
   "metadata": {}
  }
 ]
}