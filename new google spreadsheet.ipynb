{
 "metadata": {
  "name": "",
  "signature": "sha256:f72aafa5bcb3438c4609a62c37656b66b0721e02329724ca8de4e6e44b928d5d"
 },
 "nbformat": 3,
 "nbformat_minor": 0,
 "worksheets": [
  {
   "cells": [
    {
     "cell_type": "code",
     "collapsed": false,
     "input": [
      "import gspread\n",
      "import gdata.docs.client\n",
      "\n",
      "email = 'tiger@viewsy.com'\n",
      "password = 'Qq18666372882'\n",
      "gc = gspread.login(email, password)\n",
      " \n",
      "filename = 'testing_0'\n",
      " \n",
      "#Tries to Open Spreadsheet. If doesn't exist, creates new\n",
      "try:\n",
      "        spr = gc.open(filename)\n",
      "except:\n",
      "        gd_client = gdata.docs.client.DocsClient()\n",
      "        source = 'Monthly Spreadsheet'\n",
      "        gd_client.ClientLogin(email, password, source)\n",
      "        document = gdata.docs.data.Resource(type='spreadsheet', title=filename)\n",
      "        document = gd_client.CreateResource(document)\n",
      "        print 'Created Spreadsheet: '+filename\n",
      "        spr = gc.open(filename)\n",
      "        pass"
     ],
     "language": "python",
     "metadata": {},
     "outputs": [
      {
       "output_type": "stream",
       "stream": "stdout",
       "text": [
        "Created Spreadsheet: testing_0\n"
       ]
      }
     ],
     "prompt_number": 31
    },
    {
     "cell_type": "code",
     "collapsed": false,
     "input": [
      "from pydrive.auth import GoogleAuth\n",
      "from pydrive.drive import GoogleDrive\n",
      "\n",
      "gauth = GoogleAuth()\n",
      "gauth.LocalWebserverAuth()\n",
      "\n",
      "drive = GoogleDrive(gauth)"
     ],
     "language": "python",
     "metadata": {},
     "outputs": [
      {
       "ename": "InvalidConfigError",
       "evalue": "Invalid client secrets file File not found: \"client_secrets.json\"",
       "output_type": "pyerr",
       "traceback": [
        "\u001b[0;31m---------------------------------------------------------------------------\u001b[0m\n\u001b[0;31mInvalidConfigError\u001b[0m                        Traceback (most recent call last)",
        "\u001b[0;32m<ipython-input-1-e867cbe19911>\u001b[0m in \u001b[0;36m<module>\u001b[0;34m()\u001b[0m\n\u001b[1;32m      3\u001b[0m \u001b[0;34m\u001b[0m\u001b[0m\n\u001b[1;32m      4\u001b[0m \u001b[0mgauth\u001b[0m \u001b[0;34m=\u001b[0m \u001b[0mGoogleAuth\u001b[0m\u001b[0;34m(\u001b[0m\u001b[0;34m)\u001b[0m\u001b[0;34m\u001b[0m\u001b[0m\n\u001b[0;32m----> 5\u001b[0;31m \u001b[0mgauth\u001b[0m\u001b[0;34m.\u001b[0m\u001b[0mLocalWebserverAuth\u001b[0m\u001b[0;34m(\u001b[0m\u001b[0;34m)\u001b[0m\u001b[0;34m\u001b[0m\u001b[0m\n\u001b[0m\u001b[1;32m      6\u001b[0m \u001b[0;34m\u001b[0m\u001b[0m\n\u001b[1;32m      7\u001b[0m \u001b[0mdrive\u001b[0m \u001b[0;34m=\u001b[0m \u001b[0mGoogleDrive\u001b[0m\u001b[0;34m(\u001b[0m\u001b[0mgauth\u001b[0m\u001b[0;34m)\u001b[0m\u001b[0;34m\u001b[0m\u001b[0m\n",
        "\u001b[0;32m/Users/Tiger/Library/Enthought/Canopy_64bit/User/lib/python2.7/site-packages/pydrive/auth.pyc\u001b[0m in \u001b[0;36m_decorated\u001b[0;34m(self, *args, **kwargs)\u001b[0m\n\u001b[1;32m     65\u001b[0m       \u001b[0mself\u001b[0m\u001b[0;34m.\u001b[0m\u001b[0mLoadCredentials\u001b[0m\u001b[0;34m(\u001b[0m\u001b[0;34m)\u001b[0m\u001b[0;34m\u001b[0m\u001b[0m\n\u001b[1;32m     66\u001b[0m     \u001b[0;32mif\u001b[0m \u001b[0mself\u001b[0m\u001b[0;34m.\u001b[0m\u001b[0mflow\u001b[0m \u001b[0;32mis\u001b[0m \u001b[0mNone\u001b[0m\u001b[0;34m:\u001b[0m\u001b[0;34m\u001b[0m\u001b[0m\n\u001b[0;32m---> 67\u001b[0;31m       \u001b[0mself\u001b[0m\u001b[0;34m.\u001b[0m\u001b[0mGetFlow\u001b[0m\u001b[0;34m(\u001b[0m\u001b[0;34m)\u001b[0m\u001b[0;34m\u001b[0m\u001b[0m\n\u001b[0m\u001b[1;32m     68\u001b[0m     \u001b[0;32mif\u001b[0m \u001b[0mself\u001b[0m\u001b[0;34m.\u001b[0m\u001b[0mcredentials\u001b[0m \u001b[0;32mis\u001b[0m \u001b[0mNone\u001b[0m\u001b[0;34m:\u001b[0m\u001b[0;34m\u001b[0m\u001b[0m\n\u001b[1;32m     69\u001b[0m       \u001b[0mcode\u001b[0m \u001b[0;34m=\u001b[0m \u001b[0mdecoratee\u001b[0m\u001b[0;34m(\u001b[0m\u001b[0mself\u001b[0m\u001b[0;34m,\u001b[0m \u001b[0;34m*\u001b[0m\u001b[0margs\u001b[0m\u001b[0;34m,\u001b[0m \u001b[0;34m**\u001b[0m\u001b[0mkwargs\u001b[0m\u001b[0;34m)\u001b[0m\u001b[0;34m\u001b[0m\u001b[0m\n",
        "\u001b[0;32m/Users/Tiger/Library/Enthought/Canopy_64bit/User/lib/python2.7/site-packages/pydrive/auth.pyc\u001b[0m in \u001b[0;36mGetFlow\u001b[0;34m(self)\u001b[0m\n\u001b[1;32m    343\u001b[0m     if not all(config in self.client_config \\\n\u001b[1;32m    344\u001b[0m                for config in self.CLIENT_CONFIGS_LIST):\n\u001b[0;32m--> 345\u001b[0;31m       \u001b[0mself\u001b[0m\u001b[0;34m.\u001b[0m\u001b[0mLoadClientConfig\u001b[0m\u001b[0;34m(\u001b[0m\u001b[0;34m)\u001b[0m\u001b[0;34m\u001b[0m\u001b[0m\n\u001b[0m\u001b[1;32m    346\u001b[0m     constructor_kwargs = {\n\u001b[1;32m    347\u001b[0m         \u001b[0;34m'redirect_uri'\u001b[0m\u001b[0;34m:\u001b[0m \u001b[0mself\u001b[0m\u001b[0;34m.\u001b[0m\u001b[0mclient_config\u001b[0m\u001b[0;34m[\u001b[0m\u001b[0;34m'redirect_uri'\u001b[0m\u001b[0;34m]\u001b[0m\u001b[0;34m,\u001b[0m\u001b[0;34m\u001b[0m\u001b[0m\n",
        "\u001b[0;32m/Users/Tiger/Library/Enthought/Canopy_64bit/User/lib/python2.7/site-packages/pydrive/auth.pyc\u001b[0m in \u001b[0;36mLoadClientConfig\u001b[0;34m(self, backend)\u001b[0m\n\u001b[1;32m    292\u001b[0m         \u001b[0;32mraise\u001b[0m \u001b[0mInvalidConfigError\u001b[0m\u001b[0;34m(\u001b[0m\u001b[0;34m'Please specify client config backend'\u001b[0m\u001b[0;34m)\u001b[0m\u001b[0;34m\u001b[0m\u001b[0m\n\u001b[1;32m    293\u001b[0m     \u001b[0;32mif\u001b[0m \u001b[0mbackend\u001b[0m \u001b[0;34m==\u001b[0m \u001b[0;34m'file'\u001b[0m\u001b[0;34m:\u001b[0m\u001b[0;34m\u001b[0m\u001b[0m\n\u001b[0;32m--> 294\u001b[0;31m       \u001b[0mself\u001b[0m\u001b[0;34m.\u001b[0m\u001b[0mLoadClientConfigFile\u001b[0m\u001b[0;34m(\u001b[0m\u001b[0;34m)\u001b[0m\u001b[0;34m\u001b[0m\u001b[0m\n\u001b[0m\u001b[1;32m    295\u001b[0m     \u001b[0;32melif\u001b[0m \u001b[0mbackend\u001b[0m \u001b[0;34m==\u001b[0m \u001b[0;34m'settings'\u001b[0m\u001b[0;34m:\u001b[0m\u001b[0;34m\u001b[0m\u001b[0m\n\u001b[1;32m    296\u001b[0m       \u001b[0mself\u001b[0m\u001b[0;34m.\u001b[0m\u001b[0mLoadClientConfigSettings\u001b[0m\u001b[0;34m(\u001b[0m\u001b[0;34m)\u001b[0m\u001b[0;34m\u001b[0m\u001b[0m\n",
        "\u001b[0;32m/Users/Tiger/Library/Enthought/Canopy_64bit/User/lib/python2.7/site-packages/pydrive/auth.pyc\u001b[0m in \u001b[0;36mLoadClientConfigFile\u001b[0;34m(self, client_config_file)\u001b[0m\n\u001b[1;32m    312\u001b[0m       \u001b[0mclient_type\u001b[0m\u001b[0;34m,\u001b[0m \u001b[0mclient_info\u001b[0m \u001b[0;34m=\u001b[0m \u001b[0mclientsecrets\u001b[0m\u001b[0;34m.\u001b[0m\u001b[0mloadfile\u001b[0m\u001b[0;34m(\u001b[0m\u001b[0mclient_config_file\u001b[0m\u001b[0;34m)\u001b[0m\u001b[0;34m\u001b[0m\u001b[0m\n\u001b[1;32m    313\u001b[0m     \u001b[0;32mexcept\u001b[0m \u001b[0mclientsecrets\u001b[0m\u001b[0;34m.\u001b[0m\u001b[0mInvalidClientSecretsError\u001b[0m\u001b[0;34m,\u001b[0m \u001b[0merror\u001b[0m\u001b[0;34m:\u001b[0m\u001b[0;34m\u001b[0m\u001b[0m\n\u001b[0;32m--> 314\u001b[0;31m       \u001b[0;32mraise\u001b[0m \u001b[0mInvalidConfigError\u001b[0m\u001b[0;34m(\u001b[0m\u001b[0;34m'Invalid client secrets file %s'\u001b[0m \u001b[0;34m%\u001b[0m \u001b[0merror\u001b[0m\u001b[0;34m)\u001b[0m\u001b[0;34m\u001b[0m\u001b[0m\n\u001b[0m\u001b[1;32m    315\u001b[0m     if not client_type in (clientsecrets.TYPE_WEB,\n\u001b[1;32m    316\u001b[0m                            clientsecrets.TYPE_INSTALLED):\n",
        "\u001b[0;31mInvalidConfigError\u001b[0m: Invalid client secrets file File not found: \"client_secrets.json\""
       ]
      }
     ],
     "prompt_number": 1
    },
    {
     "cell_type": "code",
     "collapsed": false,
     "input": [
      "#!/usr/bin/python\n",
      "\n",
      "import httplib2\n",
      "import pprint\n",
      "\n",
      "from apiclient.discovery import build\n",
      "from apiclient.http import MediaFileUpload\n",
      "from oauth2client.client import OAuth2WebServerFlow\n",
      "\n",
      "\n",
      "# Copy your credentials from the console\n",
      "CLIENT_ID = '939580449229-vkbo3q5g80bebai783v26s2jc2n5ic3r.apps.googleusercontent.com'\n",
      "CLIENT_SECRET = '9E2g122yrRKqggrBg7tYjh9Q'\n",
      "\n",
      "# Check https://developers.google.com/drive/scopes for all available scopes\n",
      "OAUTH_SCOPE = 'https://www.googleapis.com/auth/drive'\n",
      "\n",
      "# Redirect URI for installed apps\n",
      "REDIRECT_URI = 'https://www.example.com/oauth2callback'\n",
      "\n",
      "# Path to the file to upload\n",
      "FILENAME = 'document.txt'\n",
      "\n",
      "# Run through the OAuth flow and retrieve credentials\n",
      "flow = OAuth2WebServerFlow(CLIENT_ID, CLIENT_SECRET, OAUTH_SCOPE,\n",
      "                           redirect_uri=REDIRECT_URI)\n",
      "authorize_url = flow.step1_get_authorize_url()\n",
      "print 'Go to the following link in your browser: ' + authorize_url\n",
      "code = raw_input('Enter verification code: ').strip()\n",
      "credentials = flow.step2_exchange(code)\n",
      "\n",
      "# Create an httplib2.Http object and authorize it with our credentials\n",
      "http = httplib2.Http()\n",
      "http = credentials.authorize(http)\n",
      "\n",
      "drive_service = build('drive', 'v2', http=http)\n",
      "\n",
      "# Insert a file\n",
      "media_body = MediaFileUpload(FILENAME, mimetype='text/plain', resumable=True)\n",
      "body = {\n",
      "  'title': 'My document',\n",
      "  'description': 'A test document',\n",
      "  'mimeType': 'text/plain'\n",
      "}\n",
      "\n",
      "file = drive_service.files().insert(body=body, media_body=media_body).execute()\n",
      "pprint.pprint(file)"
     ],
     "language": "python",
     "metadata": {},
     "outputs": [
      {
       "output_type": "stream",
       "stream": "stdout",
       "text": [
        "Go to the following link in your browser: https://accounts.google.com/o/oauth2/auth?scope=https%3A%2F%2Fwww.googleapis.com%2Fauth%2Fdrive&redirect_uri=https%3A%2F%2Fwww.example.com%2Foauth2callback&response_type=code&client_id=939580449229-vkbo3q5g80bebai783v26s2jc2n5ic3r.apps.googleusercontent.com&access_type=offline\n"
       ]
      },
      {
       "name": "stdout",
       "output_type": "stream",
       "stream": "stdout",
       "text": [
        "Enter verification code: 4/j5jto4NEfoh7WpdsLwJTctRP50-p4rSioNnZ4yJDHXI.Uj5mgnliEhoWoiIBeO6P2m-gork8mAI\n"
       ]
      },
      {
       "output_type": "stream",
       "stream": "stdout",
       "text": [
        "{u'alternateLink': u'https://docs.google.com/a/viewsy.com/file/d/0B_rdtEbDfukibVh2d3Y0em12YkU/edit?usp=drivesdk',\n",
        " u'appDataContents': False,\n",
        " u'copyable': True,\n",
        " u'createdDate': u'2015-03-15T16:55:59.723Z',\n",
        " u'description': u'A test document',\n",
        " u'downloadUrl': u'https://doc-14-0c-docs.googleusercontent.com/docs/securesc/fsc7sdc19mler4prhb8ooe4pijidvp5h/nb63s5ufi66abnhi67jmj3nb5drp3qe6/1426435200000/10968627142492470095/10968627142492470095/0B_rdtEbDfukibVh2d3Y0em12YkU?h=15506547412940751154&e=download&gd=true',\n",
        " u'editable': True,\n",
        " u'etag': u'\"tlWfk03TbBHKoqyGbIYE6wA918U/MTQyNjQzODU1OTU3OA\"',\n",
        " u'fileExtension': u'',\n",
        " u'fileSize': u'13',\n",
        " u'headRevisionId': u'0B_rdtEbDfukiWW4zKzFVWVZWODFDRVI5R3VQMFJYcDhCR1lNPQ',\n",
        " u'iconLink': u'https://ssl.gstatic.com/docs/doclist/images/icon_10_text_list.png',\n",
        " u'id': u'0B_rdtEbDfukibVh2d3Y0em12YkU',\n",
        " u'kind': u'drive#file',\n",
        " u'labels': {u'hidden': False,\n",
        "             u'restricted': False,\n",
        "             u'starred': False,\n",
        "             u'trashed': False,\n",
        "             u'viewed': True},\n",
        " u'lastModifyingUser': {u'displayName': u'Tiger Huang',\n",
        "                        u'emailAddress': u'tiger@viewsy.com',\n",
        "                        u'isAuthenticatedUser': True,\n",
        "                        u'kind': u'drive#user',\n",
        "                        u'permissionId': u'10968627142492470095'},\n",
        " u'lastModifyingUserName': u'Tiger Huang',\n",
        " u'lastViewedByMeDate': u'2015-03-15T16:55:59.578Z',\n",
        " u'markedViewedByMeDate': u'1970-01-01T00:00:00.000Z',\n",
        " u'md5Checksum': u'41f389da9db32ef56fb19c9cc323cbd9',\n",
        " u'mimeType': u'text/plain',\n",
        " u'modifiedByMeDate': u'2015-03-15T16:55:59.578Z',\n",
        " u'modifiedDate': u'2015-03-15T16:55:59.578Z',\n",
        " u'originalFilename': u'My document',\n",
        " u'ownerNames': [u'Tiger Huang'],\n",
        " u'owners': [{u'displayName': u'Tiger Huang',\n",
        "              u'emailAddress': u'tiger@viewsy.com',\n",
        "              u'isAuthenticatedUser': True,\n",
        "              u'kind': u'drive#user',\n",
        "              u'permissionId': u'10968627142492470095'}],\n",
        " u'parents': [{u'id': u'0APrdtEbDfukiUk9PVA',\n",
        "               u'isRoot': True,\n",
        "               u'kind': u'drive#parentReference',\n",
        "               u'parentLink': u'https://www.googleapis.com/drive/v2/files/0APrdtEbDfukiUk9PVA',\n",
        "               u'selfLink': u'https://www.googleapis.com/drive/v2/files/0B_rdtEbDfukibVh2d3Y0em12YkU/parents/0APrdtEbDfukiUk9PVA'}],\n",
        " u'quotaBytesUsed': u'13',\n",
        " u'selfLink': u'https://www.googleapis.com/drive/v2/files/0B_rdtEbDfukibVh2d3Y0em12YkU',\n",
        " u'shared': False,\n",
        " u'title': u'My document',\n",
        " u'userPermission': {u'etag': u'\"tlWfk03TbBHKoqyGbIYE6wA918U/90MI55_8lbhBAFsXFuEL7ZEgq4U\"',\n",
        "                     u'id': u'me',\n",
        "                     u'kind': u'drive#permission',\n",
        "                     u'role': u'owner',\n",
        "                     u'selfLink': u'https://www.googleapis.com/drive/v2/files/0B_rdtEbDfukibVh2d3Y0em12YkU/permissions/me',\n",
        "                     u'type': u'user'},\n",
        " u'version': u'517',\n",
        " u'webContentLink': u'https://docs.google.com/a/viewsy.com/uc?id=0B_rdtEbDfukibVh2d3Y0em12YkU&export=download',\n",
        " u'writersCanShare': True}\n"
       ]
      }
     ],
     "prompt_number": 1
    },
    {
     "cell_type": "code",
     "collapsed": false,
     "input": [
      "from apiclient import errors\n",
      "def insert_permission(service, file_id, value, perm_type, role):\n",
      "  \"\"\"Insert a new permission.\n",
      "\n",
      "  Args:\n",
      "    service: Drive API service instance.\n",
      "    file_id: ID of the file to insert permission for.\n",
      "    value: User or group e-mail address, domain name or None for 'default'\n",
      "           type.\n",
      "    perm_type: The value 'user', 'group', 'domain' or 'default'.\n",
      "    role: The value 'owner', 'writer' or 'reader'.\n",
      "  Returns:\n",
      "    The inserted permission if successful, None otherwise.\n",
      "  \"\"\"\n",
      "  new_permission = {\n",
      "      'value': value,\n",
      "      'type': perm_type,\n",
      "      'role': role\n",
      "  }\n",
      "  try:\n",
      "    return service.permissions().insert(\n",
      "        fileId=file_id, body=new_permission).execute()\n",
      "  except errors.HttpError, error:\n",
      "    print 'An error occurred: %s' % error\n",
      "  return None"
     ],
     "language": "python",
     "metadata": {},
     "outputs": [],
     "prompt_number": 5
    },
    {
     "cell_type": "code",
     "collapsed": false,
     "input": [
      "def retrieve_all_files(service):\n",
      "  \"\"\"Retrieve a list of File resources.\n",
      "\n",
      "  Args:\n",
      "    service: Drive API service instance.\n",
      "  Returns:\n",
      "    List of File resources.\n",
      "  \"\"\"\n",
      "  result = []\n",
      "  page_token = None\n",
      "  while True:\n",
      "    try:\n",
      "      param = {}\n",
      "      if page_token:\n",
      "        param['pageToken'] = page_token\n",
      "      files = service.files().list(**param).execute()\n",
      "\n",
      "      result.extend(files['items'])\n",
      "      page_token = files.get('nextPageToken')\n",
      "      if not page_token:\n",
      "        break\n",
      "    except errors.HttpError, error:\n",
      "      print 'An error occurred: %s' % error\n",
      "      break\n",
      "  return result"
     ],
     "language": "python",
     "metadata": {},
     "outputs": [],
     "prompt_number": 7
    },
    {
     "cell_type": "code",
     "collapsed": false,
     "input": [
      "insert_permission(drive_service, '0B_rdtEbDfukibVh2d3Y0em12YkU', 'tigerhuangyuhao@gmail.com', 'user', 'reader')"
     ],
     "language": "python",
     "metadata": {},
     "outputs": [
      {
       "metadata": {},
       "output_type": "pyout",
       "prompt_number": 15,
       "text": [
        "{u'domain': u'gmail.com',\n",
        " u'emailAddress': u'tigerhuangyuhao@gmail.com',\n",
        " u'etag': u'\"tlWfk03TbBHKoqyGbIYE6wA918U/1s1ZDjQlibGPebeUEkZ_BTJ1bcU\"',\n",
        " u'id': u'00999845219002939156',\n",
        " u'kind': u'drive#permission',\n",
        " u'name': u'Yuhao Tiger Huang',\n",
        " u'photoLink': u'https://lh3.googleusercontent.com/-m3Z9Xvzavwc/AAAAAAAAAAI/AAAAAAAAAFM/ZQrYTjvXQGM/s64/photo.jpg',\n",
        " u'role': u'reader',\n",
        " u'selfLink': u'https://www.googleapis.com/drive/v2/files/0B_rdtEbDfukibVh2d3Y0em12YkU/permissions/00999845219002939156',\n",
        " u'type': u'user'}"
       ]
      }
     ],
     "prompt_number": 15
    },
    {
     "cell_type": "code",
     "collapsed": false,
     "input": [
      "all_files = retrieve_all_files(drive_service)"
     ],
     "language": "python",
     "metadata": {},
     "outputs": [],
     "prompt_number": 9
    },
    {
     "cell_type": "code",
     "collapsed": false,
     "input": [
      "for i in all_files:\n",
      "    if i['title'] == 'My document':\n",
      "        print i['id']"
     ],
     "language": "python",
     "metadata": {},
     "outputs": [
      {
       "output_type": "stream",
       "stream": "stdout",
       "text": [
        "0B_rdtEbDfukibVh2d3Y0em12YkU\n"
       ]
      }
     ],
     "prompt_number": 14
    },
    {
     "cell_type": "code",
     "collapsed": false,
     "input": [],
     "language": "python",
     "metadata": {},
     "outputs": []
    },
    {
     "cell_type": "code",
     "collapsed": false,
     "input": [
      "from pydrive.auth import GoogleAuth\n",
      "\n",
      "gauth = GoogleAuth()\n",
      "gauth.LocalWebserverAuth() # Creates local webserver and auto handles authentication"
     ],
     "language": "python",
     "metadata": {},
     "outputs": [
      {
       "output_type": "stream",
       "stream": "stdout",
       "text": [
        "Your browser has been opened to visit:\n",
        "\n",
        "    https://accounts.google.com/o/oauth2/auth?scope=https%3A%2F%2Fwww.googleapis.com%2Fauth%2Fdrive&redirect_uri=http%3A%2F%2Flocalhost%3A8080%2F&response_type=code&client_id=939580449229-vkbo3q5g80bebai783v26s2jc2n5ic3r.apps.googleusercontent.com&access_type=offline\n",
        "\n",
        "Authentication successful."
       ]
      },
      {
       "output_type": "stream",
       "stream": "stdout",
       "text": [
        "\n"
       ]
      }
     ],
     "prompt_number": 17
    },
    {
     "cell_type": "code",
     "collapsed": false,
     "input": [
      "from pydrive.drive import GoogleDrive\n",
      "drive = GoogleDrive(gauth)\n",
      "insert_permission(drive, '0B_rdtEbDfukibVh2d3Y0em12YkU', 'tigerhuangyuhao@gmail.com', 'user', 'reader')"
     ],
     "language": "python",
     "metadata": {},
     "outputs": [
      {
       "ename": "AttributeError",
       "evalue": "'GoogleDrive' object has no attribute 'permissions'",
       "output_type": "pyerr",
       "traceback": [
        "\u001b[0;31m---------------------------------------------------------------------------\u001b[0m\n\u001b[0;31mAttributeError\u001b[0m                            Traceback (most recent call last)",
        "\u001b[0;32m<ipython-input-20-6a8ae6cd307c>\u001b[0m in \u001b[0;36m<module>\u001b[0;34m()\u001b[0m\n\u001b[1;32m      1\u001b[0m \u001b[0;32mfrom\u001b[0m \u001b[0mpydrive\u001b[0m\u001b[0;34m.\u001b[0m\u001b[0mdrive\u001b[0m \u001b[0;32mimport\u001b[0m \u001b[0mGoogleDrive\u001b[0m\u001b[0;34m\u001b[0m\u001b[0m\n\u001b[1;32m      2\u001b[0m \u001b[0mdrive\u001b[0m \u001b[0;34m=\u001b[0m \u001b[0mGoogleDrive\u001b[0m\u001b[0;34m(\u001b[0m\u001b[0mgauth\u001b[0m\u001b[0;34m)\u001b[0m\u001b[0;34m\u001b[0m\u001b[0m\n\u001b[0;32m----> 3\u001b[0;31m \u001b[0minsert_permission\u001b[0m\u001b[0;34m(\u001b[0m\u001b[0mdrive\u001b[0m\u001b[0;34m,\u001b[0m \u001b[0;34m'0B_rdtEbDfukibVh2d3Y0em12YkU'\u001b[0m\u001b[0;34m,\u001b[0m \u001b[0;34m'tigerhuangyuhao@gmail.com'\u001b[0m\u001b[0;34m,\u001b[0m \u001b[0;34m'user'\u001b[0m\u001b[0;34m,\u001b[0m \u001b[0;34m'reader'\u001b[0m\u001b[0;34m)\u001b[0m\u001b[0;34m\u001b[0m\u001b[0m\n\u001b[0m",
        "\u001b[0;32m<ipython-input-5-37f639e90387>\u001b[0m in \u001b[0;36minsert_permission\u001b[0;34m(service, file_id, value, perm_type, role)\u001b[0m\n\u001b[1;32m     19\u001b[0m   }\n\u001b[1;32m     20\u001b[0m   \u001b[0;32mtry\u001b[0m\u001b[0;34m:\u001b[0m\u001b[0;34m\u001b[0m\u001b[0m\n\u001b[0;32m---> 21\u001b[0;31m     return service.permissions().insert(\n\u001b[0m\u001b[1;32m     22\u001b[0m         fileId=file_id, body=new_permission).execute()\n\u001b[1;32m     23\u001b[0m   \u001b[0;32mexcept\u001b[0m \u001b[0merrors\u001b[0m\u001b[0;34m.\u001b[0m\u001b[0mHttpError\u001b[0m\u001b[0;34m,\u001b[0m \u001b[0merror\u001b[0m\u001b[0;34m:\u001b[0m\u001b[0;34m\u001b[0m\u001b[0m\n",
        "\u001b[0;31mAttributeError\u001b[0m: 'GoogleDrive' object has no attribute 'permissions'"
       ]
      }
     ],
     "prompt_number": 20
    },
    {
     "cell_type": "code",
     "collapsed": false,
     "input": [],
     "language": "python",
     "metadata": {},
     "outputs": []
    }
   ],
   "metadata": {}
  }
 ]
}