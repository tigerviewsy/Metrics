{
 "metadata": {
  "name": "",
  "signature": "sha256:b8858c205cb62f22afac6770a4dbcecc5e695282fa4358dddec8d3221b2b7504"
 },
 "nbformat": 3,
 "nbformat_minor": 0,
 "worksheets": [
  {
   "cells": [
    {
     "cell_type": "code",
     "collapsed": false,
     "input": [
      "import beatbox\n",
      "svc = beatbox.PythonClient()\n",
      "svc.login('tiger@viewsy.com', 'Qq18666372882s7jF6atSena3eAIQo7jue6Q4T')"
     ],
     "language": "python",
     "metadata": {},
     "outputs": [
      {
       "metadata": {},
       "output_type": "pyout",
       "prompt_number": 1,
       "text": [
        "{'passwordExpired': False,\n",
        " 'serverUrl': 'https://emea.salesforce.com/services/Soap/u/32.0/00D20000000l8H0',\n",
        " 'sessionId': '00D20000000l8H0!AR8AQIiWNXk8VeVKDSDnlWi4RNJ9OCIB6PDyau3_1DnAX4gNeGqb1Qq3ylL_70Tdji5gyAXCnrIR1RsBwNt.xx9fd6yF2lEo',\n",
        " 'userId': '00520000003uXFKAA2',\n",
        " 'userInfo': {'accessibilityMode': False,\n",
        "  'currencySymbol': '',\n",
        "  'organizationId': '00D20000000l8H0EAI',\n",
        "  'organizationMultiCurrency': True,\n",
        "  'organizationName': 'Viewsy',\n",
        "  'userDefaultCurrencyIsoCode': 'GBP',\n",
        "  'userEmail': 'tiger@viewsy.com',\n",
        "  'userFullName': 'Tiger Huang',\n",
        "  'userId': '00520000003uXFKAA2',\n",
        "  'userLanguage': 'en_US',\n",
        "  'userLocale': 'en_GB',\n",
        "  'userTimeZone': 'Europe/London',\n",
        "  'userUiSkin': 'Theme3'}}"
       ]
      }
     ],
     "prompt_number": 1
    },
    {
     "cell_type": "code",
     "collapsed": false,
     "input": [
      "qr = svc.query(\"select CreatedDate,OpportunityId,StageName from OpportunityHistory\")"
     ],
     "language": "python",
     "metadata": {},
     "outputs": []
    }
   ],
   "metadata": {}
  }
 ]
}