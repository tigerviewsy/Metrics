{
 "metadata": {
  "name": "",
  "signature": "sha256:453ef008d373c66c6b23c91daa0114aa0fe7c05ab5b0c78b9dec62b3eadc0d28"
 },
 "nbformat": 3,
 "nbformat_minor": 0,
 "worksheets": [
  {
   "cells": [
    {
     "cell_type": "code",
     "collapsed": false,
     "input": [
      "import gspread"
     ],
     "language": "python",
     "metadata": {},
     "outputs": [],
     "prompt_number": 102
    },
    {
     "cell_type": "code",
     "collapsed": false,
     "input": [
      "gc = gspread.login('tiger@viewsy.com', 'Qq18666372882')"
     ],
     "language": "python",
     "metadata": {},
     "outputs": [],
     "prompt_number": 103
    },
    {
     "cell_type": "code",
     "collapsed": false,
     "input": [
      "wks = gc.open(\"testing_gspread\")"
     ],
     "language": "python",
     "metadata": {},
     "outputs": [],
     "prompt_number": 104
    },
    {
     "cell_type": "code",
     "collapsed": false,
     "input": [
      "wks_pmfit = wks.worksheets()[0]\n",
      "wks_sales = wks.worksheets()[1]"
     ],
     "language": "python",
     "metadata": {},
     "outputs": [],
     "prompt_number": 105
    },
    {
     "cell_type": "code",
     "collapsed": false,
     "input": [
      "# testing data \n",
      "import datetime\n",
      "intercom_metrics = [{'user_id': u'52', 'session_count': 30}]\n",
      "salesforce_metrics = [{'pro_count': {'pro_1_5': 25.925925925925927, 'pro_1_8': 7.407407407407407},\n",
      "                       'time_count': {'ave_time_1_5': datetime.timedelta(1, 27883, 166667),\n",
      "                                      'ave_time_5_8': datetime.timedelta(3, 28430)},\n",
      "                       'stage_count': {'stage_1_count': 27,\n",
      "                                       'stage_8_count': 2,\n",
      "                                       'stage_5_count': 7}},\n",
      "                      {'pro_count': {'pro_1_8': 7.407407407407407},\n",
      "                       'time_count': {'ave_time_1_8': datetime.timedelta(4, 56313, 166667)}}]"
     ],
     "language": "python",
     "metadata": {},
     "outputs": [],
     "prompt_number": 106
    },
    {
     "cell_type": "code",
     "collapsed": false,
     "input": [
      "def format_per(float_number):\n",
      "    return '{:.2f}'.format(float_number)+'%'\n",
      "\n",
      "def format_datetime(datetime_obj):\n",
      "    return str(datetime_obj)[:str(datetime_obj).rfind(':')+3]\n",
      "\n",
      "format_datetime(datetime.datetime(2014,1,1,2,3,2))"
     ],
     "language": "python",
     "metadata": {},
     "outputs": [
      {
       "metadata": {},
       "output_type": "pyout",
       "prompt_number": 120,
       "text": [
        "'2014-01-01 02:03:02'"
       ]
      }
     ],
     "prompt_number": 120
    },
    {
     "cell_type": "code",
     "collapsed": false,
     "input": [
      "wks_pmfit.update_acell('A1','% of convertion:')\n",
      "wks_pmfit.update_acell('B1',format_per(salesforce_metrics[1]['pro_count']['pro_1_8']))\n",
      "\n",
      "wks_pmfit.update_acell('A2','Average time of convertion:')\n",
      "wks_pmfit.update_acell('B2',format_datetime(salesforce_metrics[1]['time_count']['ave_time_1_8']))\n",
      "\n",
      "wks_pmfit.update_acell('A4','How much do \\'active user\\' use our app?')\n",
      "wks_pmfit.update_acell('B4',sum([i['session_count'] for i in intercom_metrics]))\n",
      "\n",
      "wks_pmfit.update_acell('A5','How long?')\n",
      "wks_pmfit.update_acell('B5','No data')"
     ],
     "language": "python",
     "metadata": {},
     "outputs": [],
     "prompt_number": 121
    },
    {
     "cell_type": "code",
     "collapsed": false,
     "input": [
      "# setting the framework\n",
      "wks_sales.update_acell('B1','count')\n",
      "wks_sales.update_acell('C1','Proportion to Qualified Stage')\n",
      "wks_sales.update_acell('D1','average time of progressing to next stage')\n",
      "\n",
      "wks_sales.update_acell('A3','Initial Meeting')\n",
      "wks_sales.update_acell('A5','Qualified')\n",
      "wks_sales.update_acell('A7','Final Proposal')\n",
      "wks_sales.update_acell('A9','Won')\n",
      "\n",
      "# set the count value\n",
      "wks_sales.update_acell('B3','?')\n",
      "wks_sales.update_acell('B5',salesforce_metrics[0]['stage_count']['stage_1_count'])\n",
      "wks_sales.update_acell('B7',salesforce_metrics[0]['stage_count']['stage_5_count'])\n",
      "wks_sales.update_acell('B9',salesforce_metrics[0]['stage_count']['stage_8_count'])\n",
      "\n",
      "# set the % value\n",
      "wks_sales.update_acell('C4','?')\n",
      "wks_sales.update_acell('C6',format_per(salesforce_metrics[0]['pro_count']['pro_1_5']))\n",
      "wks_sales.update_acell('C8',format_per(salesforce_metrics[0]['pro_count']['pro_1_8']))\n",
      "\n",
      "# set the average time\n",
      "wks_sales.update_acell('D4','?')\n",
      "wks_sales.update_acell('D6',format_datetime(salesforce_metrics[0]['time_count']['ave_time_1_5']))\n",
      "wks_sales.update_acell('D8',format_datetime(salesforce_metrics[0]['time_count']['ave_time_5_8']))"
     ],
     "language": "python",
     "metadata": {},
     "outputs": [],
     "prompt_number": 122
    },
    {
     "cell_type": "code",
     "collapsed": false,
     "input": [],
     "language": "python",
     "metadata": {},
     "outputs": []
    }
   ],
   "metadata": {}
  }
 ]
}